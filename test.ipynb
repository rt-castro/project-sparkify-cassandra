{
 "cells": [
  {
   "cell_type": "code",
   "execution_count": 1,
   "metadata": {},
   "outputs": [
    {
     "name": "stdout",
     "output_type": "stream",
     "text": [
      "Query 1 results:  Faithless , Music Matters (Mark Knight Dub) , 495.3073\n",
      "Query 2 results:  Down To The Bone , Keep On Keepin' On , Sylvie Cruz\n",
      "Query 2 results:  Three Drives , Greece 2000 , Sylvie Cruz\n",
      "Query 2 results:  Sebastien Tellier , Kilometer , Sylvie Cruz\n",
      "Query 2 results:  Lonnie Gordon , Catch You Baby (Steve Pitron & Max Sanna Radio Edit) , Sylvie Cruz\n",
      "Query 3 results:  Jacqueline Lynch\n",
      "Query 3 results:  Tegan Levine\n",
      "Query 3 results:  Sara Johnson\n"
     ]
    }
   ],
   "source": [
    "%run etl_nosql.py"
   ]
  },
  {
   "cell_type": "code",
   "execution_count": null,
   "metadata": {},
   "outputs": [],
   "source": []
  }
 ],
 "metadata": {
  "kernelspec": {
   "display_name": "Python 3",
   "language": "python",
   "name": "python3"
  },
  "language_info": {
   "codemirror_mode": {
    "name": "ipython",
    "version": 3
   },
   "file_extension": ".py",
   "mimetype": "text/x-python",
   "name": "python",
   "nbconvert_exporter": "python",
   "pygments_lexer": "ipython3",
   "version": "3.8.3"
  }
 },
 "nbformat": 4,
 "nbformat_minor": 4
}
